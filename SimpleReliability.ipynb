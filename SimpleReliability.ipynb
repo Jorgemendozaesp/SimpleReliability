{
 "cells": [
  {
   "cell_type": "markdown",
   "metadata": {},
   "source": [
    "# Structural Reliability - Basics and Example\n",
    "This is a very condensed introduction to a simple structural reliability problem.\n",
    "\n",
    "## Context:\n",
    "Structural reliability is defined as the complement of structural failure. Structural failure is defined as an event, where the load bearing capacity $R$ is smaller than the load effect $S$. Correspondingly, the failure probability is the defined as $P_F=\\Pr(R\\le S)=\\Pr(R-S\\le 0)$ and reliability as $\\Pr(R-S>0)$.\n",
    "In general, $R$ and $S$ are not certainly known and are mathematically represented as random variables. If it is assumed that $R$ and $S$ can be represented as independent normal distributed random variables, a safety margin $M=R-S$ can be introduced, which is as well normal distributed with mean value $\\mu_M=\\mu_R-\\mu_S$ and standard deviation $\\sigma_M=\\sqrt{\\sigma_R^2+\\sigma_S^2}$. The failure probability can then computed as\n",
    "\n",
    "$P_F=\\Pr(R-S<0)=\\Pr(M<0)=\\Phi\\left(\\frac{0-\\mu_M}{\\sigma_M}\\right)=\\Phi\\left(-\\frac{\\mu_R-\\mu_S}{\\sqrt{\\sigma_R^2+\\sigma_S^2}}\\right)=\\Phi\\left(-\\beta\\right)$\n",
    "\n",
    "where $\\beta=\\frac{\\mu_R-\\mu_S}{\\sqrt{\\sigma_R^2+\\sigma_S^2}}$ is referred to as the *reliability index*.\n",
    "\n",
    "## Example:\n",
    "You have to design a beam that has to span $l=10$ m and has to carry a load $Q$ . The material that is available is glued laminated timber (Glulam) and the cross-section is specified to be rectangular with a width of $b =300$ mm and height $h$. The load is given in this project to be a uniform distributed load that is represented by its 50 years maximum value $Q$. The material property of interest in this case is the bending strength of the Glulam $F_{m}$ . The situation is illustrated in the following Figure.\n",
    "\n",
    "![Simple Supported Beam](l02_fig1.png)\n",
    "\n",
    "The dominating effect ($S$) of the load $Q$ is the bending moment at mid-span, which is $Ql^{2}/8$. The elastic bending load bearing capacity of the rectangular cross-section $R$ is $F_{m}bh^{2}/6$.\n",
    "Structural failure is defined as the event when the load on a structure is larger than its load bearing capacity. In other words, failure is characterized by the difference between the load bearing capacity and the load being negative. The corresponding limit state is general referred to as *Ultimate Limit State (ULS)* and for this example expressed as:\n",
    "\n",
    "$g\\left(R,S\\right) = R-S = \\left(\\dfrac{bh^{2} }{6} \\right)F_{m} -\\left(\\dfrac{l^{2} }{8} \\right)Q\\le 0$\n",
    "\n",
    "The limit state equation contains different variables, some of them are uncertain or random, as $Q,F_m$, and represented as Normal distributed with mean value and coefficient of variation, $\\mu_Q=24.1$ N/mm, $V_Q=0.3$, and, $\\mu_{F_m}=24.1$ MPa, $V_{F_m}=0.15$. For a chosen $h=800$ mm, the reliability index and the corresponding failure probability are computed as:\n",
    "\n"
   ]
  },
  {
   "cell_type": "code",
   "execution_count": 1,
   "metadata": {},
   "outputs": [],
   "source": [
    "## Packages and general settings\n",
    "\n",
    "import numpy as np\n",
    "import scipy as sp\n",
    "import matplotlib.pyplot as plt\n",
    "import scipy.stats\n",
    "fontsizes=18\n",
    "plt.rcParams.update({'font.size': fontsizes})\n",
    "plt.rcParams.update({\"font.family\": \"serif\"})\n",
    "plt.rcParams.update({\"mathtext.fontset\" : \"cm\"})\n",
    "plt.rcParams.update({'font.serif': 'Times New Roman'})\n",
    "plt.close('all')"
   ]
  },
  {
   "cell_type": "code",
   "execution_count": 2,
   "metadata": {},
   "outputs": [
    {
     "name": "stdout",
     "output_type": "stream",
     "text": [
      "Reliability Index Beta: 3.52 \n",
      "\n",
      "Probability of failure: 2.19e-04 \n",
      "\n"
     ]
    }
   ],
   "source": [
    "## Input\n",
    "\n",
    "# Geometry\n",
    "l = 10000                          # [mm] span\n",
    "b = 300                            # [mm] width\n",
    "\n",
    "#==============================================================================\n",
    "# Material properties\n",
    "mu_fm = 26.6                       # [MPa] mean material resistance\n",
    "cov_fm = 0.15                      # coeff. of variation\n",
    "std_fm = mu_fm*cov_fm              # [MPa] standard deviation\n",
    "\n",
    "mu_R = mu_fm*b/6\n",
    "std_R = std_fm*b/6\n",
    "#==============================================================================\n",
    "# Load\n",
    "mu_q = 24.1                        # [N/mm] mean load\n",
    "cov_q = 0.3                        # coeff. of variation\n",
    "std_q = mu_q*cov_q                 # [MPa] standard deviation\n",
    "\n",
    "mu_S = (l**2/8)*mu_q\n",
    "std_S = (l**2/8)*std_q\n",
    "\n",
    "h1 = 800                        # in [mm]\n",
    "\n",
    "## Computation\n",
    "\n",
    "# Reliability index :\n",
    "beta = (mu_R*h1**2-mu_S)/(((std_R*h1**2)**2+(std_S)**2)**0.5)\n",
    "\n",
    "# Probability of failure :\n",
    "PF = sp.stats.norm.cdf(-beta)\n",
    "\n",
    "# Results: \n",
    "B1  = \"Reliability Index Beta: {b:.2f} \\n\".format(b=beta)\n",
    "P2 = \"Probability of failure: {pf:.2e} \\n\".format(pf=PF)\n",
    "print(B1)\n",
    "print(P2)"
   ]
  },
  {
   "cell_type": "markdown",
   "metadata": {},
   "source": [
    "We might be interested how the choice of $h$ affects the reliability index and the failure probability, say in the range of $h = [500,1500]$. "
   ]
  },
  {
   "cell_type": "code",
   "execution_count": 3,
   "metadata": {},
   "outputs": [
    {
     "data": {
      "image/png": "[encoded data removed]",
      "text/plain": [
       "<Figure size 432x288 with 2 Axes>"
      ]
     },
     "metadata": {
      "needs_background": "light"
     },
     "output_type": "display_data"
    }
   ],
   "source": [
    "# Reliability index as a function of the decision variable\n",
    "BETA = lambda h: (mu_R*h**2-mu_S)/(((std_R*h**2)**2+(std_S)**2)**0.5)\n",
    "h1 = np.linspace(500,1500, num=10000)\n",
    "beta = BETA(h1)\n",
    "PF = sp.stats.norm.cdf(-beta)\n",
    "\n",
    "# Plot settings\n",
    "plt.figure()\n",
    "\n",
    "plt.subplot(121)\n",
    "plt.plot(h1,beta, color='black',lw=2)\n",
    "plt.xlabel('$h$ [m]',fontsize=fontsizes)\n",
    "plt.ylabel(r'$\\beta$',fontsize=fontsizes)\n",
    "plt.xlim(500,1500)\n",
    "plt.ylim(0,6)\n",
    "\n",
    "\n",
    "plt.subplot(122)\n",
    "plt.plot(h1,PF, color='black',lw=2)\n",
    "plt.yscale('log')\n",
    "plt.xlabel('$h$ [m]',fontsize=fontsizes)\n",
    "plt.ylabel('$P_f$',fontsize=fontsizes)\n",
    "plt.xlim(500,1500)\n",
    "plt.ylim(1e-10,1e0)\n",
    "plt.tight_layout()\n",
    "plt.show()"
   ]
  },
  {
   "cell_type": "markdown",
   "metadata": {},
   "source": [
    "Let's see how the relation between $\\beta$ and the decision parameter $h$ is influenced by the coefficient of variation of the load: "
   ]
  },
  {
   "cell_type": "code",
   "execution_count": 4,
   "metadata": {},
   "outputs": [
    {
     "data": {
      "application/vnd.jupyter.widget-view+json": {
       "model_id": "c83645efd3bb4563abae7c2a7d69e8d2",
       "version_major": 2,
       "version_minor": 0
      },
      "text/plain": [
       "VBox(children=(FloatSlider(value=0.3, description='CoV load:', max=1.0, readout_format='2.2f', step=0.05), But…"
      ]
     },
     "metadata": {},
     "output_type": "display_data"
    }
   ],
   "source": [
    "from IPython.display import display, Markdown, clear_output\n",
    "import json\n",
    "import ipywidgets as widgets\n",
    "import scipy as sp\n",
    "\n",
    "slider_covq = widgets.FloatSlider(\n",
    "         value=0.3,\n",
    "         min=0,\n",
    "         max=1.0,\n",
    "         step=0.05,\n",
    "         description='CoV load:',\n",
    "         orientation='horizontal',\n",
    "         readout=True,\n",
    "         readout_format='2.2f',)\n",
    "\n",
    "button = widgets.Button(description='Refresh plot')\n",
    "\n",
    "out = widgets.Output()\n",
    "\n",
    "# Plot settings\n",
    "def plot_beta(ax,beta):\n",
    "        PF = sp.stats.norm.cdf(-beta)\n",
    "        \n",
    "        ax[0].plot(h1,beta, color='black',lw=2)\n",
    "        ax[0].set_xlabel('$h$ [m]')\n",
    "        ax[0].set_ylabel(r'$\\beta$')\n",
    "        ax[0].set_xlim(500,1500)\n",
    "        ax[0].set_ylim(0,6)\n",
    "        \n",
    "        ax[1].plot(h1,PF, color='black',lw=2)\n",
    "        ax[1].set_yscale('log')\n",
    "        ax[1].set_xlabel('$h$ [m]',fontsize=fontsizes)\n",
    "        ax[1].set_ylabel('$P_f$',fontsize=fontsizes)\n",
    "        ax[1].set_xlim(500,1500)\n",
    "        ax[1].set_ylim(1e-10,1e0)\n",
    "        plt.tight_layout()\n",
    "        plt.show()\n",
    "\n",
    "    \n",
    "def on_button_clicked(b):\n",
    "    with out:\n",
    "        clear_output()\n",
    "        std_q = mu_q*slider_covq.value                 # [MPa] standard deviation\n",
    "        std_S = (l**2/8)*std_q\n",
    "        \n",
    "        BETA = lambda h: (mu_R*h**2-mu_S)/(((std_R*h**2)**2+(std_S)**2)**0.5)\n",
    "        h1 = np.linspace(500,1500, num=10000)\n",
    "        beta = BETA(h1)\n",
    "        fig, ax1 = plt.subplots(1,2)\n",
    "        plot_beta(ax1,beta)\n",
    "        \n",
    "button.on_click(on_button_clicked)\n",
    "display(widgets.VBox([slider_covq,button,out]))"
   ]
  },
  {
   "cell_type": "code",
   "execution_count": 5,
   "metadata": {},
   "outputs": [
    {
     "data": {
      "application/vnd.jupyter.widget-view+json": {
       "model_id": "623bcdc3d71340bba4475cf670a31b54",
       "version_major": 2,
       "version_minor": 0
      },
      "text/plain": [
       "VBox(children=(FloatSlider(value=1000.0, description='$h$=', max=1500.0, min=500.0, readout_format='2.2f', ste…"
      ]
     },
     "metadata": {},
     "output_type": "display_data"
    }
   ],
   "source": [
    "from IPython.display import display, Markdown, clear_output\n",
    "from matplotlib.figure import figaspect\n",
    "import json\n",
    "import ipywidgets as widgets\n",
    "import scipy as sp\n",
    "\n",
    "slider_h = widgets.FloatSlider(\n",
    "         value=1000,\n",
    "         min=500,\n",
    "         max=1500,\n",
    "         step=0.05,\n",
    "         description='$h$=',\n",
    "         orientation='horizontal',\n",
    "         readout=True,\n",
    "         readout_format='2.2f',)\n",
    "\n",
    "slider_covq = widgets.FloatSlider(\n",
    "         value=0.3,\n",
    "         min=0,\n",
    "         max=1.0,\n",
    "         step=0.05,\n",
    "         description='CoV load:',\n",
    "         orientation='horizontal',\n",
    "         readout=True,\n",
    "         readout_format='2.2f',)\n",
    "\n",
    "button = widgets.Button(description='Refresh plot')\n",
    "\n",
    "out = widgets.Output()\n",
    "\n",
    "# Plot settings\n",
    "        \n",
    "def plot_margin(ax,h,std_S,Pf):\n",
    "        \n",
    "        S = np.linspace(mu_S-5*std_S,mu_S+5*std_S,100)\n",
    "        R = np.linspace(mu_R*h**2-5*std_R*h**2,mu_R*h**2+5*std_R*h**2,100)\n",
    "        std_M = np.sqrt(std_S**2+(std_R*h**2)**2)\n",
    "        mu_M = mu_R*h**2-mu_S\n",
    "        M1 = np.linspace(min(mu_M-5*std_M,-std_M),0,20)\n",
    "        M2 = np.linspace(0.1,max(mu_M+5*std_M,std_M),80)\n",
    "        M = np.concatenate((M1,M2))\n",
    "        y_S = sp.stats.norm.pdf(S,mu_S,std_S)\n",
    "        y_S /= np.trapz(y_S,S)\n",
    "        y_R = sp.stats.norm.pdf(R,mu_R*h**2,std_R*h**2)\n",
    "        y_R /=np.trapz(y_R,R)\n",
    "        y_M = sp.stats.norm.pdf(M,mu_M,std_M)\n",
    "        cte = np.trapz(y_M,M)\n",
    "        y_M /= cte\n",
    "        ax.plot(S,y_S, color='red',label = '$S$')\n",
    "        ax.plot(R,y_R, color='blue',label = '$R$')\n",
    "        ax.plot(M,y_M, color='black',label = '$M$')\n",
    "        ax.fill_between(M1, 0, sp.stats.norm.pdf(M1,mu_M,std_M)/cte,color='red',alpha = 0.4)\n",
    "        max_y = max(max(y_M),max(y_R),max(y_S))\n",
    "        ax.plot(np.array([0,0]),np.array([0,max_y*1.1]),'--k')\n",
    "        ax.set_xlabel('$S$,$R$,$M$')\n",
    "        ax.set_ylabel('PDF')\n",
    "        ax.set_xlim(min(-std_M,mu_M-3*std_M),max(mu_R*h**2+3*std_R*h**2,mu_S+3*std_S))\n",
    "        ax.set_ylim(0,max_y*1.1)\n",
    "        ax.set_xticks(np.array([0,mu_S,mu_M,mu_R*h**2]))\n",
    "        ax.set_xticklabels(['0','$\\mu_S$','$\\mu_M$','$\\mu_R$'])\n",
    "        ax.set_yticks([])\n",
    "        ax.text(0,0,'$P_f$ = {p:.2e}'.format(p=Pf),horizontalalignment='right',verticalalignment='top')\n",
    "        ax.legend(loc = 'upper left', bbox_to_anchor=(1, 1))\n",
    "        plt.show()\n",
    "        \n",
    "def on_button_clicked(b):\n",
    "    with out:\n",
    "        clear_output()\n",
    "        h = slider_h.value                 # [MPa] standard deviation\n",
    "        std_q = mu_q*slider_covq.value\n",
    "        std_S = (l**2/8)*std_q\n",
    "        \n",
    "        beta = (mu_R*h**2-mu_S)/(((std_R*h**2)**2+(std_S)**2)**0.5)\n",
    "        Pf = sp.stats.norm.cdf(-beta)\n",
    "        wp, hp = figaspect(1/3)\n",
    "        fig, ax2 = plt.subplots(figsize=(wp,hp))\n",
    "        plot_margin(ax2,h,std_S,Pf)\n",
    "        \n",
    "button.on_click(on_button_clicked)\n",
    "display(widgets.VBox([slider_h,slider_covq,button,out]))"
   ]
  },
  {
   "cell_type": "code",
   "execution_count": null,
   "metadata": {},
   "outputs": [],
   "source": []
  }
 ],
 "metadata": {
  "kernelspec": {
   "display_name": "Python 3",
   "language": "python",
   "name": "python3"
  },
  "language_info": {
   "codemirror_mode": {
    "name": "ipython",
    "version": 3
   },
   "file_extension": ".py",
   "mimetype": "text/x-python",
   "name": "python",
   "nbconvert_exporter": "python",
   "pygments_lexer": "ipython3",
   "version": "3.7.3"
  }
 },
 "nbformat": 4,
 "nbformat_minor": 4
}
